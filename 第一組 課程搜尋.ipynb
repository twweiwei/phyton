{
 "cells": [
  {
   "cell_type": "code",
   "execution_count": 8,
   "metadata": {
    "collapsed": false
   },
   "outputs": [
    {
     "name": "stdout",
     "output_type": "stream",
     "text": [
      "課程列表: 經濟學 計概 國文 微積分 英文字彙 英文口語 管理學 法律與生活\n",
      "請輸入課程名稱：經濟學\n"
     ]
    },
    {
     "data": {
      "text/plain": [
       "'TR-412-2'"
      ]
     },
     "execution_count": 8,
     "metadata": {},
     "output_type": "execute_result"
    }
   ],
   "source": [
    "ntust={'經濟學':'TR-412-2','計概':'MA-303','國文':'tr-309','微積分':'IB-306','英文字彙':'tr-609','英文口語':'IB-611',\n",
    "       '管理學':'IB-502','法律與生活':'tr-310-1'}\n",
    "print(\"課程列表: 經濟學 計概 國文 微積分 英文字彙 英文口語 管理學 法律與生活\")\n",
    "a=input(\"請輸入課程名稱：\")\n",
    "ntust.get(a,'沒有此課程')"
   ]
  },
  {
   "cell_type": "code",
   "execution_count": null,
   "metadata": {
    "collapsed": true
   },
   "outputs": [],
   "source": []
  }
 ],
 "metadata": {
  "kernelspec": {
   "display_name": "Python 3",
   "language": "python",
   "name": "python3"
  },
  "language_info": {
   "codemirror_mode": {
    "name": "ipython",
    "version": 3
   },
   "file_extension": ".py",
   "mimetype": "text/x-python",
   "name": "python",
   "nbconvert_exporter": "python",
   "pygments_lexer": "ipython3",
   "version": "3.4.3"
  }
 },
 "nbformat": 4,
 "nbformat_minor": 0
}
