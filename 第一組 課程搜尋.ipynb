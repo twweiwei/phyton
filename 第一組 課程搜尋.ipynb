{
 "cells": [
  {
   "cell_type": "code",
   "execution_count": 14,
   "metadata": {
    "collapsed": false
   },
   "outputs": [
    {
     "name": "stdout",
     "output_type": "stream",
     "text": [
      "課程列表: 經濟學 計概 國文 微積分 英文字彙 英文口語 管理學 法律與生活\n",
      "請輸入課程名稱：管理學\n",
      "IB-502\n",
      "是否繼續查詢:\n"
     ]
    }
   ],
   "source": [
    "ntust={'經濟學':'TR-412-2','計概':'MA-303','國文':'tr-309','微積分':'IB-306','英文字彙':'tr-609','英文口語':'IB-611',\n",
    "       '管理學':'IB-502','法律與生活':'tr-310-1'}\n",
    "print(\"課程列表: 經濟學 計概 國文 微積分 英文字彙 英文口語 管理學 法律與生活\")\n",
    "a=input(\"請輸入課程名稱：\")\n",
    "b=ntust.get(a,'沒有此課程')\n",
    "print(b)\n",
    "while True:\n",
    "    c=input(\"是否繼續查詢:\")\n",
    "    if c==\"是\":\n",
    "        a=input(\"請輸入課程名稱：\")\n",
    "        b=ntust.get(a,'沒有此課程')\n",
    "        print(b)\n",
    "    else :\n",
    "        break\n",
    "    \n"
   ]
  },
  {
   "cell_type": "code",
   "execution_count": 13,
   "metadata": {
    "collapsed": false
   },
   "outputs": [
    {
     "ename": "ImportError",
     "evalue": "No module named 'Image'",
     "output_type": "error",
     "traceback": [
      "\u001b[1;31m---------------------------------------------------------------------------\u001b[0m",
      "\u001b[1;31mImportError\u001b[0m                               Traceback (most recent call last)",
      "\u001b[1;32m<ipython-input-13-2ae454bab008>\u001b[0m in \u001b[0;36m<module>\u001b[1;34m()\u001b[0m\n\u001b[1;32m----> 1\u001b[1;33m \u001b[1;32mimport\u001b[0m \u001b[0mImage\u001b[0m\u001b[1;33m\u001b[0m\u001b[0m\n\u001b[0m\u001b[0;32m      2\u001b[0m \u001b[0mimage\u001b[0m \u001b[1;33m=\u001b[0m \u001b[0mImage\u001b[0m\u001b[1;33m.\u001b[0m\u001b[0mopen\u001b[0m\u001b[1;33m(\u001b[0m\u001b[1;34m\"c:\\\\Users\\\\MA303\\\\Desktop\\\\1.jpg\"\u001b[0m\u001b[1;33m)\u001b[0m\u001b[1;33m\u001b[0m\u001b[0m\n\u001b[0;32m      3\u001b[0m \u001b[0mimage\u001b[0m\u001b[1;33m.\u001b[0m\u001b[0mshow\u001b[0m\u001b[1;33m(\u001b[0m\u001b[1;33m)\u001b[0m\u001b[1;33m\u001b[0m\u001b[0m\n",
      "\u001b[1;31mImportError\u001b[0m: No module named 'Image'"
     ]
    }
   ],
   "source": []
  },
  {
   "cell_type": "code",
   "execution_count": null,
   "metadata": {
    "collapsed": true
   },
   "outputs": [],
   "source": []
  }
 ],
 "metadata": {
  "kernelspec": {
   "display_name": "Python 3",
   "language": "python",
   "name": "python3"
  },
  "language_info": {
   "codemirror_mode": {
    "name": "ipython",
    "version": 3
   },
   "file_extension": ".py",
   "mimetype": "text/x-python",
   "name": "python",
   "nbconvert_exporter": "python",
   "pygments_lexer": "ipython3",
   "version": "3.4.3"
  }
 },
 "nbformat": 4,
 "nbformat_minor": 0
}
